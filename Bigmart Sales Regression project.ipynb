{
 "cells": [
  {
   "cell_type": "code",
   "execution_count": 1,
   "id": "4c291bff",
   "metadata": {},
   "outputs": [],
   "source": [
    "#import the necessary library files\n",
    "import pandas as pd\n",
    "import numpy as np\n",
    "import matplotlib.pyplot as plt\n",
    "%matplotlib inline"
   ]
  },
  {
   "cell_type": "code",
   "execution_count": 2,
   "id": "623c9820",
   "metadata": {},
   "outputs": [
    {
     "name": "stdout",
     "output_type": "stream",
     "text": [
      "C:\\Users\\Chandini Yakkati\\Downloads\\bigmartsales\n"
     ]
    }
   ],
   "source": [
    "import io\n",
    "%cd \"C:\\Users\\Chandini Yakkati\\Downloads\\bigmartsales\""
   ]
  },
  {
   "cell_type": "code",
   "execution_count": 3,
   "id": "ab09dba3",
   "metadata": {},
   "outputs": [],
   "source": [
    "bigmarttrain=pd.read_csv('train_v9rqX0R.csv')\n",
    "# Train - Train file will have complete data including Dependent Variable\n",
    "# Train data is used to build a model"
   ]
  },
  {
   "cell_type": "code",
   "execution_count": 4,
   "id": "9ba1f9d0",
   "metadata": {},
   "outputs": [],
   "source": [
    "bigmarttest=pd.read_csv('test_AbJTz2l.csv')\n",
    "# Test - Test file will not have Dependent Variable. Dependent Variable needs to be predicted using Train Model."
   ]
  },
  {
   "cell_type": "code",
   "execution_count": 5,
   "id": "93cbdd74",
   "metadata": {},
   "outputs": [
    {
     "name": "stdout",
     "output_type": "stream",
     "text": [
      "(8523, 12)\n",
      "(5681, 11)\n"
     ]
    }
   ],
   "source": [
    "print(bigmarttrain.shape)\n",
    "print(bigmarttest.shape)\n",
    "# Shape is used to get the current shape of an array (number of rows and number of columns)"
   ]
  },
  {
   "cell_type": "code",
   "execution_count": 6,
   "id": "2711ce92",
   "metadata": {},
   "outputs": [
    {
     "data": {
      "text/plain": [
       "Index(['Item_Identifier', 'Item_Weight', 'Item_Fat_Content', 'Item_Visibility',\n",
       "       'Item_Type', 'Item_MRP', 'Outlet_Identifier',\n",
       "       'Outlet_Establishment_Year', 'Outlet_Size', 'Outlet_Location_Type',\n",
       "       'Outlet_Type', 'Item_Outlet_Sales'],\n",
       "      dtype='object')"
      ]
     },
     "execution_count": 6,
     "metadata": {},
     "output_type": "execute_result"
    }
   ],
   "source": [
    "bigmarttrain.columns\n",
    "# columns method return the column labels of the given Dataframe"
   ]
  },
  {
   "cell_type": "code",
   "execution_count": 7,
   "id": "2c52ca7b",
   "metadata": {},
   "outputs": [
    {
     "data": {
      "text/html": [
       "<div>\n",
       "<style scoped>\n",
       "    .dataframe tbody tr th:only-of-type {\n",
       "        vertical-align: middle;\n",
       "    }\n",
       "\n",
       "    .dataframe tbody tr th {\n",
       "        vertical-align: top;\n",
       "    }\n",
       "\n",
       "    .dataframe thead th {\n",
       "        text-align: right;\n",
       "    }\n",
       "</style>\n",
       "<table border=\"1\" class=\"dataframe\">\n",
       "  <thead>\n",
       "    <tr style=\"text-align: right;\">\n",
       "      <th></th>\n",
       "      <th>Item_Weight</th>\n",
       "      <th>Item_Visibility</th>\n",
       "      <th>Item_MRP</th>\n",
       "      <th>Outlet_Establishment_Year</th>\n",
       "      <th>Item_Outlet_Sales</th>\n",
       "    </tr>\n",
       "  </thead>\n",
       "  <tbody>\n",
       "    <tr>\n",
       "      <th>count</th>\n",
       "      <td>7060.000000</td>\n",
       "      <td>8523.000000</td>\n",
       "      <td>8523.000000</td>\n",
       "      <td>8523.000000</td>\n",
       "      <td>8523.000000</td>\n",
       "    </tr>\n",
       "    <tr>\n",
       "      <th>mean</th>\n",
       "      <td>12.857645</td>\n",
       "      <td>0.066132</td>\n",
       "      <td>140.992782</td>\n",
       "      <td>1997.831867</td>\n",
       "      <td>2181.288914</td>\n",
       "    </tr>\n",
       "    <tr>\n",
       "      <th>std</th>\n",
       "      <td>4.643456</td>\n",
       "      <td>0.051598</td>\n",
       "      <td>62.275067</td>\n",
       "      <td>8.371760</td>\n",
       "      <td>1706.499616</td>\n",
       "    </tr>\n",
       "    <tr>\n",
       "      <th>min</th>\n",
       "      <td>4.555000</td>\n",
       "      <td>0.000000</td>\n",
       "      <td>31.290000</td>\n",
       "      <td>1985.000000</td>\n",
       "      <td>33.290000</td>\n",
       "    </tr>\n",
       "    <tr>\n",
       "      <th>25%</th>\n",
       "      <td>8.773750</td>\n",
       "      <td>0.026989</td>\n",
       "      <td>93.826500</td>\n",
       "      <td>1987.000000</td>\n",
       "      <td>834.247400</td>\n",
       "    </tr>\n",
       "    <tr>\n",
       "      <th>50%</th>\n",
       "      <td>12.600000</td>\n",
       "      <td>0.053931</td>\n",
       "      <td>143.012800</td>\n",
       "      <td>1999.000000</td>\n",
       "      <td>1794.331000</td>\n",
       "    </tr>\n",
       "    <tr>\n",
       "      <th>75%</th>\n",
       "      <td>16.850000</td>\n",
       "      <td>0.094585</td>\n",
       "      <td>185.643700</td>\n",
       "      <td>2004.000000</td>\n",
       "      <td>3101.296400</td>\n",
       "    </tr>\n",
       "    <tr>\n",
       "      <th>max</th>\n",
       "      <td>21.350000</td>\n",
       "      <td>0.328391</td>\n",
       "      <td>266.888400</td>\n",
       "      <td>2009.000000</td>\n",
       "      <td>13086.964800</td>\n",
       "    </tr>\n",
       "  </tbody>\n",
       "</table>\n",
       "</div>"
      ],
      "text/plain": [
       "       Item_Weight  Item_Visibility     Item_MRP  Outlet_Establishment_Year  \\\n",
       "count  7060.000000      8523.000000  8523.000000                8523.000000   \n",
       "mean     12.857645         0.066132   140.992782                1997.831867   \n",
       "std       4.643456         0.051598    62.275067                   8.371760   \n",
       "min       4.555000         0.000000    31.290000                1985.000000   \n",
       "25%       8.773750         0.026989    93.826500                1987.000000   \n",
       "50%      12.600000         0.053931   143.012800                1999.000000   \n",
       "75%      16.850000         0.094585   185.643700                2004.000000   \n",
       "max      21.350000         0.328391   266.888400                2009.000000   \n",
       "\n",
       "       Item_Outlet_Sales  \n",
       "count        8523.000000  \n",
       "mean         2181.288914  \n",
       "std          1706.499616  \n",
       "min            33.290000  \n",
       "25%           834.247400  \n",
       "50%          1794.331000  \n",
       "75%          3101.296400  \n",
       "max         13086.964800  "
      ]
     },
     "execution_count": 7,
     "metadata": {},
     "output_type": "execute_result"
    }
   ],
   "source": [
    "bigmarttrain.describe()\n",
    "# describe() method returns description of the data in the DataFrame"
   ]
  },
  {
   "cell_type": "code",
   "execution_count": 8,
   "id": "3bb4077b",
   "metadata": {},
   "outputs": [
    {
     "name": "stdout",
     "output_type": "stream",
     "text": [
      "<class 'pandas.core.frame.DataFrame'>\n",
      "RangeIndex: 8523 entries, 0 to 8522\n",
      "Data columns (total 12 columns):\n",
      " #   Column                     Non-Null Count  Dtype  \n",
      "---  ------                     --------------  -----  \n",
      " 0   Item_Identifier            8523 non-null   object \n",
      " 1   Item_Weight                7060 non-null   float64\n",
      " 2   Item_Fat_Content           8523 non-null   object \n",
      " 3   Item_Visibility            8523 non-null   float64\n",
      " 4   Item_Type                  8523 non-null   object \n",
      " 5   Item_MRP                   8523 non-null   float64\n",
      " 6   Outlet_Identifier          8523 non-null   object \n",
      " 7   Outlet_Establishment_Year  8523 non-null   int64  \n",
      " 8   Outlet_Size                6113 non-null   object \n",
      " 9   Outlet_Location_Type       8523 non-null   object \n",
      " 10  Outlet_Type                8523 non-null   object \n",
      " 11  Item_Outlet_Sales          8523 non-null   float64\n",
      "dtypes: float64(4), int64(1), object(7)\n",
      "memory usage: 799.2+ KB\n"
     ]
    }
   ],
   "source": [
    "bigmarttrain.info()\n",
    "# info() method prints information about the DataFrame"
   ]
  },
  {
   "cell_type": "code",
   "execution_count": 9,
   "id": "5392f330",
   "metadata": {},
   "outputs": [
    {
     "data": {
      "text/html": [
       "<div>\n",
       "<style scoped>\n",
       "    .dataframe tbody tr th:only-of-type {\n",
       "        vertical-align: middle;\n",
       "    }\n",
       "\n",
       "    .dataframe tbody tr th {\n",
       "        vertical-align: top;\n",
       "    }\n",
       "\n",
       "    .dataframe thead th {\n",
       "        text-align: right;\n",
       "    }\n",
       "</style>\n",
       "<table border=\"1\" class=\"dataframe\">\n",
       "  <thead>\n",
       "    <tr style=\"text-align: right;\">\n",
       "      <th></th>\n",
       "      <th>Item_Identifier</th>\n",
       "      <th>Item_Weight</th>\n",
       "      <th>Item_Fat_Content</th>\n",
       "      <th>Item_Visibility</th>\n",
       "      <th>Item_Type</th>\n",
       "      <th>Item_MRP</th>\n",
       "      <th>Outlet_Identifier</th>\n",
       "      <th>Outlet_Establishment_Year</th>\n",
       "      <th>Outlet_Size</th>\n",
       "      <th>Outlet_Location_Type</th>\n",
       "      <th>Outlet_Type</th>\n",
       "      <th>Item_Outlet_Sales</th>\n",
       "    </tr>\n",
       "  </thead>\n",
       "  <tbody>\n",
       "    <tr>\n",
       "      <th>0</th>\n",
       "      <td>FDA15</td>\n",
       "      <td>9.30</td>\n",
       "      <td>Low Fat</td>\n",
       "      <td>0.016047</td>\n",
       "      <td>Dairy</td>\n",
       "      <td>249.8092</td>\n",
       "      <td>OUT049</td>\n",
       "      <td>1999</td>\n",
       "      <td>Medium</td>\n",
       "      <td>Tier 1</td>\n",
       "      <td>Supermarket Type1</td>\n",
       "      <td>3735.1380</td>\n",
       "    </tr>\n",
       "    <tr>\n",
       "      <th>1</th>\n",
       "      <td>DRC01</td>\n",
       "      <td>5.92</td>\n",
       "      <td>Regular</td>\n",
       "      <td>0.019278</td>\n",
       "      <td>Soft Drinks</td>\n",
       "      <td>48.2692</td>\n",
       "      <td>OUT018</td>\n",
       "      <td>2009</td>\n",
       "      <td>Medium</td>\n",
       "      <td>Tier 3</td>\n",
       "      <td>Supermarket Type2</td>\n",
       "      <td>443.4228</td>\n",
       "    </tr>\n",
       "    <tr>\n",
       "      <th>2</th>\n",
       "      <td>FDN15</td>\n",
       "      <td>17.50</td>\n",
       "      <td>Low Fat</td>\n",
       "      <td>0.016760</td>\n",
       "      <td>Meat</td>\n",
       "      <td>141.6180</td>\n",
       "      <td>OUT049</td>\n",
       "      <td>1999</td>\n",
       "      <td>Medium</td>\n",
       "      <td>Tier 1</td>\n",
       "      <td>Supermarket Type1</td>\n",
       "      <td>2097.2700</td>\n",
       "    </tr>\n",
       "    <tr>\n",
       "      <th>3</th>\n",
       "      <td>FDX07</td>\n",
       "      <td>19.20</td>\n",
       "      <td>Regular</td>\n",
       "      <td>0.000000</td>\n",
       "      <td>Fruits and Vegetables</td>\n",
       "      <td>182.0950</td>\n",
       "      <td>OUT010</td>\n",
       "      <td>1998</td>\n",
       "      <td>NaN</td>\n",
       "      <td>Tier 3</td>\n",
       "      <td>Grocery Store</td>\n",
       "      <td>732.3800</td>\n",
       "    </tr>\n",
       "    <tr>\n",
       "      <th>4</th>\n",
       "      <td>NCD19</td>\n",
       "      <td>8.93</td>\n",
       "      <td>Low Fat</td>\n",
       "      <td>0.000000</td>\n",
       "      <td>Household</td>\n",
       "      <td>53.8614</td>\n",
       "      <td>OUT013</td>\n",
       "      <td>1987</td>\n",
       "      <td>High</td>\n",
       "      <td>Tier 3</td>\n",
       "      <td>Supermarket Type1</td>\n",
       "      <td>994.7052</td>\n",
       "    </tr>\n",
       "  </tbody>\n",
       "</table>\n",
       "</div>"
      ],
      "text/plain": [
       "  Item_Identifier  Item_Weight Item_Fat_Content  Item_Visibility  \\\n",
       "0           FDA15         9.30          Low Fat         0.016047   \n",
       "1           DRC01         5.92          Regular         0.019278   \n",
       "2           FDN15        17.50          Low Fat         0.016760   \n",
       "3           FDX07        19.20          Regular         0.000000   \n",
       "4           NCD19         8.93          Low Fat         0.000000   \n",
       "\n",
       "               Item_Type  Item_MRP Outlet_Identifier  \\\n",
       "0                  Dairy  249.8092            OUT049   \n",
       "1            Soft Drinks   48.2692            OUT018   \n",
       "2                   Meat  141.6180            OUT049   \n",
       "3  Fruits and Vegetables  182.0950            OUT010   \n",
       "4              Household   53.8614            OUT013   \n",
       "\n",
       "   Outlet_Establishment_Year Outlet_Size Outlet_Location_Type  \\\n",
       "0                       1999      Medium               Tier 1   \n",
       "1                       2009      Medium               Tier 3   \n",
       "2                       1999      Medium               Tier 1   \n",
       "3                       1998         NaN               Tier 3   \n",
       "4                       1987        High               Tier 3   \n",
       "\n",
       "         Outlet_Type  Item_Outlet_Sales  \n",
       "0  Supermarket Type1          3735.1380  \n",
       "1  Supermarket Type2           443.4228  \n",
       "2  Supermarket Type1          2097.2700  \n",
       "3      Grocery Store           732.3800  \n",
       "4  Supermarket Type1           994.7052  "
      ]
     },
     "execution_count": 9,
     "metadata": {},
     "output_type": "execute_result"
    }
   ],
   "source": [
    "bigmarttrain.head() ## head() function gives first 5rows of data."
   ]
  },
  {
   "cell_type": "markdown",
   "id": "2d8bf286",
   "metadata": {},
   "source": [
    "# Hypothesis Testing"
   ]
  },
  {
   "cell_type": "code",
   "execution_count": 10,
   "id": "69666ccb",
   "metadata": {},
   "outputs": [],
   "source": [
    "# Hypothesis Testing - Comparision of Means or Averages of 2 or more than 2\n",
    "# Groups/levels/Classes\n"
   ]
  },
  {
   "cell_type": "code",
   "execution_count": 11,
   "id": "9b0d9d44",
   "metadata": {},
   "outputs": [],
   "source": [
    "# Test Null Average Item_Outlet_Sales of different Outlet_Size are equal?"
   ]
  },
  {
   "cell_type": "code",
   "execution_count": 12,
   "id": "4a1e48af",
   "metadata": {},
   "outputs": [
    {
     "data": {
      "text/plain": [
       "Outlet_Size\n",
       "High      2298.995256\n",
       "Medium    2681.603542\n",
       "Small     1912.149161\n",
       "Name: Item_Outlet_Sales, dtype: float64"
      ]
     },
     "execution_count": 12,
     "metadata": {},
     "output_type": "execute_result"
    }
   ],
   "source": [
    "bigmarttrain.Item_Outlet_Sales.groupby(bigmarttrain.Outlet_Size).mean()"
   ]
  },
  {
   "cell_type": "code",
   "execution_count": 13,
   "id": "b4da37e6",
   "metadata": {},
   "outputs": [],
   "source": [
    "# Since there are more than 2 levels - Anova Single Factor/One Way Anova\n",
    "# Null - There is no Significant difference in Average Item_Outlet_Sales of\n",
    "# different Outlet_Size stores.\n",
    "# Alt - There is Significant difference in Average Item_Outlet_Sales of different Outlet_Size stores.\n"
   ]
  },
  {
   "cell_type": "code",
   "execution_count": 14,
   "id": "6e0c37f2",
   "metadata": {},
   "outputs": [],
   "source": [
    "from scipy.stats import f_oneway"
   ]
  },
  {
   "cell_type": "code",
   "execution_count": 15,
   "id": "1d03e34a",
   "metadata": {},
   "outputs": [],
   "source": [
    "high=bigmarttrain[bigmarttrain.Outlet_Size==\"High\"]\n",
    "medium=bigmarttrain[bigmarttrain.Outlet_Size==\"Medium\"]\n",
    "small=bigmarttrain[bigmarttrain.Outlet_Size==\"Small\"]"
   ]
  },
  {
   "cell_type": "code",
   "execution_count": 16,
   "id": "a206dc5d",
   "metadata": {},
   "outputs": [
    {
     "data": {
      "text/plain": [
       "F_onewayResult(statistic=131.09669439861293, pvalue=1.7912745521017898e-56)"
      ]
     },
     "execution_count": 16,
     "metadata": {},
     "output_type": "execute_result"
    }
   ],
   "source": [
    "f_oneway(high.Item_Outlet_Sales,medium.Item_Outlet_Sales,small.Item_Outlet_Sales) ## since pvalue is less than 0.05 reject null \n",
    "#hypothesis"
   ]
  },
  {
   "cell_type": "code",
   "execution_count": 17,
   "id": "dfad997a",
   "metadata": {},
   "outputs": [],
   "source": [
    "#Test Null Average Item_Visibility for different Outlet_Location_Type are equal?"
   ]
  },
  {
   "cell_type": "code",
   "execution_count": 18,
   "id": "23a5e829",
   "metadata": {},
   "outputs": [
    {
     "data": {
      "text/plain": [
       "Outlet_Location_Type\n",
       "Tier 1    0.071205\n",
       "Tier 2    0.061038\n",
       "Tier 3    0.066751\n",
       "Name: Item_Visibility, dtype: float64"
      ]
     },
     "execution_count": 18,
     "metadata": {},
     "output_type": "execute_result"
    }
   ],
   "source": [
    "bigmarttrain.Item_Visibility.groupby(bigmarttrain.Outlet_Location_Type).mean()"
   ]
  },
  {
   "cell_type": "code",
   "execution_count": 19,
   "id": "3be29330",
   "metadata": {},
   "outputs": [],
   "source": [
    "# Since there are more than 2 levels - Anova Single Factor/One Way Anova\n",
    "# Null - There is no Significant difference in Average Item_Visibility for different Outlet_Location_Type.\n",
    "# Alt - There is Significant difference in Average Item_Visibility for different Outlet_Location_Type.\n"
   ]
  },
  {
   "cell_type": "code",
   "execution_count": 20,
   "id": "c92f83dd",
   "metadata": {},
   "outputs": [],
   "source": [
    "from scipy.stats import f_oneway"
   ]
  },
  {
   "cell_type": "code",
   "execution_count": 21,
   "id": "3c5388aa",
   "metadata": {},
   "outputs": [],
   "source": [
    "T1=bigmarttrain[bigmarttrain.Outlet_Location_Type==\"Tier 1\"]\n",
    "T2=bigmarttrain[bigmarttrain.Outlet_Location_Type==\"Tier 2\"]\n",
    "T3=bigmarttrain[bigmarttrain.Outlet_Location_Type==\"Tier 3\"]"
   ]
  },
  {
   "cell_type": "code",
   "execution_count": 22,
   "id": "806f44d2",
   "metadata": {},
   "outputs": [
    {
     "data": {
      "text/plain": [
       "F_onewayResult(statistic=25.502631485439718, pvalue=9.06501507948925e-12)"
      ]
     },
     "execution_count": 22,
     "metadata": {},
     "output_type": "execute_result"
    }
   ],
   "source": [
    "f_oneway(T1.Item_Visibility,T2.Item_Visibility,T3.Item_Visibility) # since pvalue less than 0.05 reject null hypothesis"
   ]
  },
  {
   "cell_type": "code",
   "execution_count": 23,
   "id": "09fb87b4",
   "metadata": {},
   "outputs": [],
   "source": [
    "#Both Variables are Non Numeric & categorical - chiSquare Test of Independence"
   ]
  },
  {
   "cell_type": "code",
   "execution_count": 24,
   "id": "da265994",
   "metadata": {},
   "outputs": [],
   "source": [
    "#Test Null No Association between Outlet_Size & Outlet_Type?"
   ]
  },
  {
   "cell_type": "code",
   "execution_count": 25,
   "id": "9172749f",
   "metadata": {},
   "outputs": [],
   "source": [
    "# Null - There is no association between both variables\n",
    "# Alt - There is association between both variables\n"
   ]
  },
  {
   "cell_type": "code",
   "execution_count": 26,
   "id": "c7f69a5b",
   "metadata": {},
   "outputs": [
    {
     "data": {
      "text/html": [
       "<div>\n",
       "<style scoped>\n",
       "    .dataframe tbody tr th:only-of-type {\n",
       "        vertical-align: middle;\n",
       "    }\n",
       "\n",
       "    .dataframe tbody tr th {\n",
       "        vertical-align: top;\n",
       "    }\n",
       "\n",
       "    .dataframe thead th {\n",
       "        text-align: right;\n",
       "    }\n",
       "</style>\n",
       "<table border=\"1\" class=\"dataframe\">\n",
       "  <thead>\n",
       "    <tr style=\"text-align: right;\">\n",
       "      <th>Outlet_Type</th>\n",
       "      <th>Grocery Store</th>\n",
       "      <th>Supermarket Type1</th>\n",
       "      <th>Supermarket Type2</th>\n",
       "      <th>Supermarket Type3</th>\n",
       "    </tr>\n",
       "    <tr>\n",
       "      <th>Outlet_Size</th>\n",
       "      <th></th>\n",
       "      <th></th>\n",
       "      <th></th>\n",
       "      <th></th>\n",
       "    </tr>\n",
       "  </thead>\n",
       "  <tbody>\n",
       "    <tr>\n",
       "      <th>High</th>\n",
       "      <td>0</td>\n",
       "      <td>932</td>\n",
       "      <td>0</td>\n",
       "      <td>0</td>\n",
       "    </tr>\n",
       "    <tr>\n",
       "      <th>Medium</th>\n",
       "      <td>0</td>\n",
       "      <td>930</td>\n",
       "      <td>928</td>\n",
       "      <td>935</td>\n",
       "    </tr>\n",
       "    <tr>\n",
       "      <th>Small</th>\n",
       "      <td>528</td>\n",
       "      <td>1860</td>\n",
       "      <td>0</td>\n",
       "      <td>0</td>\n",
       "    </tr>\n",
       "  </tbody>\n",
       "</table>\n",
       "</div>"
      ],
      "text/plain": [
       "Outlet_Type  Grocery Store  Supermarket Type1  Supermarket Type2  \\\n",
       "Outlet_Size                                                        \n",
       "High                     0                932                  0   \n",
       "Medium                   0                930                928   \n",
       "Small                  528               1860                  0   \n",
       "\n",
       "Outlet_Type  Supermarket Type3  \n",
       "Outlet_Size                     \n",
       "High                         0  \n",
       "Medium                     935  \n",
       "Small                        0  "
      ]
     },
     "execution_count": 26,
     "metadata": {},
     "output_type": "execute_result"
    }
   ],
   "source": [
    "pd.crosstab(bigmarttrain.Outlet_Size,bigmarttrain.Outlet_Type)"
   ]
  },
  {
   "cell_type": "code",
   "execution_count": 27,
   "id": "252b3c93",
   "metadata": {},
   "outputs": [],
   "source": [
    "from scipy.stats import chi2_contingency"
   ]
  },
  {
   "cell_type": "code",
   "execution_count": 28,
   "id": "d16c7a16",
   "metadata": {},
   "outputs": [
    {
     "data": {
      "text/plain": [
       "(3734.861462225357,\n",
       " 0.0,\n",
       " 6,\n",
       " array([[  80.49991821,  241.24063471,  206.25944708],\n",
       "        [ 567.46343857, 1700.56371667, 1453.97284476],\n",
       "        [ 141.48470473,  423.99869131,  362.51660396],\n",
       "        [ 142.55193849,  427.1969573 ,  365.2511042 ]]))"
      ]
     },
     "execution_count": 28,
     "metadata": {},
     "output_type": "execute_result"
    }
   ],
   "source": [
    "chi2_contingency(pd.crosstab(bigmarttrain.Outlet_Type,bigmarttrain.Outlet_Size)) ## since pvalue <0.05 reject null"
   ]
  },
  {
   "cell_type": "code",
   "execution_count": 29,
   "id": "36b3345b",
   "metadata": {},
   "outputs": [],
   "source": [
    "# Test Null No Association between Outlet_Size and Outlet_Location_Type?"
   ]
  },
  {
   "cell_type": "code",
   "execution_count": 30,
   "id": "75e93dd1",
   "metadata": {},
   "outputs": [],
   "source": [
    "# Null - There is no association between both variables\n",
    "# Alt - There is association between both variables\n"
   ]
  },
  {
   "cell_type": "code",
   "execution_count": 31,
   "id": "da8491fc",
   "metadata": {},
   "outputs": [
    {
     "data": {
      "text/html": [
       "<div>\n",
       "<style scoped>\n",
       "    .dataframe tbody tr th:only-of-type {\n",
       "        vertical-align: middle;\n",
       "    }\n",
       "\n",
       "    .dataframe tbody tr th {\n",
       "        vertical-align: top;\n",
       "    }\n",
       "\n",
       "    .dataframe thead th {\n",
       "        text-align: right;\n",
       "    }\n",
       "</style>\n",
       "<table border=\"1\" class=\"dataframe\">\n",
       "  <thead>\n",
       "    <tr style=\"text-align: right;\">\n",
       "      <th>Outlet_Location_Type</th>\n",
       "      <th>Tier 1</th>\n",
       "      <th>Tier 2</th>\n",
       "      <th>Tier 3</th>\n",
       "    </tr>\n",
       "    <tr>\n",
       "      <th>Outlet_Size</th>\n",
       "      <th></th>\n",
       "      <th></th>\n",
       "      <th></th>\n",
       "    </tr>\n",
       "  </thead>\n",
       "  <tbody>\n",
       "    <tr>\n",
       "      <th>High</th>\n",
       "      <td>0</td>\n",
       "      <td>0</td>\n",
       "      <td>932</td>\n",
       "    </tr>\n",
       "    <tr>\n",
       "      <th>Medium</th>\n",
       "      <td>930</td>\n",
       "      <td>0</td>\n",
       "      <td>1863</td>\n",
       "    </tr>\n",
       "    <tr>\n",
       "      <th>Small</th>\n",
       "      <td>1458</td>\n",
       "      <td>930</td>\n",
       "      <td>0</td>\n",
       "    </tr>\n",
       "  </tbody>\n",
       "</table>\n",
       "</div>"
      ],
      "text/plain": [
       "Outlet_Location_Type  Tier 1  Tier 2  Tier 3\n",
       "Outlet_Size                                 \n",
       "High                       0       0     932\n",
       "Medium                   930       0    1863\n",
       "Small                   1458     930       0"
      ]
     },
     "execution_count": 31,
     "metadata": {},
     "output_type": "execute_result"
    }
   ],
   "source": [
    "pd.crosstab(bigmarttrain.Outlet_Size,bigmarttrain.Outlet_Location_Type)"
   ]
  },
  {
   "cell_type": "code",
   "execution_count": 32,
   "id": "8b09de9f",
   "metadata": {},
   "outputs": [],
   "source": [
    "from scipy.stats import chi2_contingency"
   ]
  },
  {
   "cell_type": "code",
   "execution_count": 33,
   "id": "920c057a",
   "metadata": {},
   "outputs": [
    {
     "data": {
      "text/plain": [
       "(4095.431263490629,\n",
       " 0.0,\n",
       " 4,\n",
       " array([[ 364.07917553,  141.78962866,  426.13119581],\n",
       "        [1091.06559791,  424.9124816 , 1277.0219205 ],\n",
       "        [ 932.85522657,  363.29788974, 1091.84688369]]))"
      ]
     },
     "execution_count": 33,
     "metadata": {},
     "output_type": "execute_result"
    }
   ],
   "source": [
    "chi2_contingency(pd.crosstab(bigmarttrain.Outlet_Size,bigmarttrain.Outlet_Location_Type)) # since pvalue <0.05 reject null"
   ]
  },
  {
   "cell_type": "code",
   "execution_count": null,
   "id": "b3333f08",
   "metadata": {},
   "outputs": [],
   "source": []
  },
  {
   "cell_type": "code",
   "execution_count": null,
   "id": "b902a0a7",
   "metadata": {},
   "outputs": [],
   "source": []
  },
  {
   "cell_type": "markdown",
   "id": "765af0c8",
   "metadata": {},
   "source": [
    "# Data preprocessing"
   ]
  },
  {
   "cell_type": "code",
   "execution_count": 34,
   "id": "0767c36a",
   "metadata": {},
   "outputs": [
    {
     "data": {
      "text/plain": [
       "Outlet_Size                  2410\n",
       "Item_Weight                  1463\n",
       "Item_Identifier                 0\n",
       "Item_Fat_Content                0\n",
       "Item_Visibility                 0\n",
       "Item_Type                       0\n",
       "Item_MRP                        0\n",
       "Outlet_Identifier               0\n",
       "Outlet_Establishment_Year       0\n",
       "Outlet_Location_Type            0\n",
       "Outlet_Type                     0\n",
       "Item_Outlet_Sales               0\n",
       "dtype: int64"
      ]
     },
     "execution_count": 34,
     "metadata": {},
     "output_type": "execute_result"
    }
   ],
   "source": [
    "# Check Missing Values \n",
    "bigmarttrain.isnull().sum().sort_values(ascending=False)\n",
    "# .isnull().sum() returns the number of missing values in the data set.\n",
    "# sort_values will sort the data in descending order (i.e., from highest to lowest)"
   ]
  },
  {
   "cell_type": "code",
   "execution_count": 35,
   "id": "696054ae",
   "metadata": {},
   "outputs": [
    {
     "data": {
      "text/plain": [
       "Outlet_Size                  1606\n",
       "Item_Weight                   976\n",
       "Item_Identifier                 0\n",
       "Item_Fat_Content                0\n",
       "Item_Visibility                 0\n",
       "Item_Type                       0\n",
       "Item_MRP                        0\n",
       "Outlet_Identifier               0\n",
       "Outlet_Establishment_Year       0\n",
       "Outlet_Location_Type            0\n",
       "Outlet_Type                     0\n",
       "dtype: int64"
      ]
     },
     "execution_count": 35,
     "metadata": {},
     "output_type": "execute_result"
    }
   ],
   "source": [
    "bigmarttest.isnull().sum().sort_values(ascending=False)\n",
    "# .isnull().sum() returns the number of missing values in the data set.\n",
    "# sort_values will sort the data in descending order (i.e., from highest to lowest)"
   ]
  },
  {
   "cell_type": "code",
   "execution_count": 36,
   "id": "f7db2161",
   "metadata": {},
   "outputs": [],
   "source": [
    "# Since similar columns have missing values Combine both dataframes\n",
    "# For Concating dataframes, Number of Columns must be equal\n",
    "# Create Dependent Variable Column in Test data\n",
    "bigmarttest['Item_Outlet_Sales']='test'"
   ]
  },
  {
   "cell_type": "code",
   "execution_count": 37,
   "id": "ca52528e",
   "metadata": {},
   "outputs": [],
   "source": [
    "# Concatenation of 2 dataframes - Row wise\n",
    "combinedf=pd.concat([bigmarttrain,bigmarttest],axis=0)\n",
    "# axis=0 is Row Concatenation\n",
    "# axis=1 is Column Concatenation"
   ]
  },
  {
   "cell_type": "code",
   "execution_count": 38,
   "id": "3a89eac0",
   "metadata": {},
   "outputs": [
    {
     "data": {
      "text/plain": [
       "(14204, 12)"
      ]
     },
     "execution_count": 38,
     "metadata": {},
     "output_type": "execute_result"
    }
   ],
   "source": [
    "combinedf.shape"
   ]
  },
  {
   "cell_type": "code",
   "execution_count": 39,
   "id": "3854c894",
   "metadata": {
    "scrolled": true
   },
   "outputs": [
    {
     "data": {
      "text/plain": [
       "Medium    4655\n",
       "NaN       4016\n",
       "Small     3980\n",
       "High      1553\n",
       "Name: Outlet_Size, dtype: int64"
      ]
     },
     "execution_count": 39,
     "metadata": {},
     "output_type": "execute_result"
    }
   ],
   "source": [
    "combinedf.Outlet_Size.value_counts(dropna=False)\n",
    "# value_counts() method returns a Series containing the counts of unique values."
   ]
  },
  {
   "cell_type": "code",
   "execution_count": 40,
   "id": "b1bd1e75",
   "metadata": {},
   "outputs": [],
   "source": [
    "combinedf.Outlet_Size=combinedf.Outlet_Size.fillna('Unknown')\n",
    "# NaN values are replaced as Unknown\n",
    "## more than 70% of the column cell data is miising,  we have to impute with word \"missing\" or \"notavailable\" or \"unknown\". "
   ]
  },
  {
   "cell_type": "code",
   "execution_count": 41,
   "id": "50f47009",
   "metadata": {},
   "outputs": [
    {
     "data": {
      "text/plain": [
       "Medium     4655\n",
       "Unknown    4016\n",
       "Small      3980\n",
       "High       1553\n",
       "Name: Outlet_Size, dtype: int64"
      ]
     },
     "execution_count": 41,
     "metadata": {},
     "output_type": "execute_result"
    }
   ],
   "source": [
    "combinedf.Outlet_Size.value_counts()"
   ]
  },
  {
   "cell_type": "code",
   "execution_count": 42,
   "id": "3ec79bf3",
   "metadata": {},
   "outputs": [
    {
     "data": {
      "text/plain": [
       "count    11765.000000\n",
       "mean        12.792854\n",
       "std          4.652502\n",
       "min          4.555000\n",
       "25%          8.710000\n",
       "50%         12.600000\n",
       "75%         16.750000\n",
       "max         21.350000\n",
       "Name: Item_Weight, dtype: float64"
      ]
     },
     "execution_count": 42,
     "metadata": {},
     "output_type": "execute_result"
    }
   ],
   "source": [
    "combinedf.Item_Weight.describe()\n",
    "# The describe() function computes a summary of statistics pertaining to the DataFrame columns\n",
    "# describe() is used to view some basic statistical details like percentile, mean, std etc. of a data frame or a series of numeric values."
   ]
  },
  {
   "cell_type": "code",
   "execution_count": 43,
   "id": "43aad1f5",
   "metadata": {},
   "outputs": [],
   "source": [
    "combinedf.Item_Weight=combinedf.Item_Weight.fillna(combinedf.Item_Weight.mean())\n",
    "# less than 70% of the column cell data is missing, Numeric Variable - impute with Mean or Median."
   ]
  },
  {
   "cell_type": "code",
   "execution_count": 44,
   "id": "1a3b40ce",
   "metadata": {},
   "outputs": [
    {
     "data": {
      "text/plain": [
       "count    14204.000000\n",
       "mean        12.792854\n",
       "std          4.234226\n",
       "min          4.555000\n",
       "25%          9.300000\n",
       "50%         12.792854\n",
       "75%         16.000000\n",
       "max         21.350000\n",
       "Name: Item_Weight, dtype: float64"
      ]
     },
     "execution_count": 44,
     "metadata": {},
     "output_type": "execute_result"
    }
   ],
   "source": [
    "combinedf.Item_Weight.describe()"
   ]
  },
  {
   "cell_type": "code",
   "execution_count": 45,
   "id": "493b9a3d",
   "metadata": {},
   "outputs": [
    {
     "data": {
      "text/plain": [
       "Index(['Item_Identifier', 'Item_Weight', 'Item_Fat_Content', 'Item_Visibility',\n",
       "       'Item_Type', 'Item_MRP', 'Outlet_Identifier',\n",
       "       'Outlet_Establishment_Year', 'Outlet_Size', 'Outlet_Location_Type',\n",
       "       'Outlet_Type', 'Item_Outlet_Sales'],\n",
       "      dtype='object')"
      ]
     },
     "execution_count": 45,
     "metadata": {},
     "output_type": "execute_result"
    }
   ],
   "source": [
    "combinedf.columns ## gives names of the columns"
   ]
  },
  {
   "cell_type": "code",
   "execution_count": 46,
   "id": "5702563b",
   "metadata": {},
   "outputs": [
    {
     "data": {
      "text/plain": [
       "0    FDA15\n",
       "1    DRC01\n",
       "2    FDN15\n",
       "3    FDX07\n",
       "4    NCD19\n",
       "Name: Item_Identifier, dtype: object"
      ]
     },
     "execution_count": 46,
     "metadata": {},
     "output_type": "execute_result"
    }
   ],
   "source": [
    "combinedf.Item_Identifier.head()"
   ]
  },
  {
   "cell_type": "code",
   "execution_count": 47,
   "id": "c6a18cf6",
   "metadata": {},
   "outputs": [],
   "source": [
    "combinedf['Item_Code']=combinedf.Item_Identifier.apply(lambda x:x[0:2])\n",
    "# lamda are anonymous fuction and arguments directly\n",
    "# def function name\n",
    "#        arguments"
   ]
  },
  {
   "cell_type": "code",
   "execution_count": 48,
   "id": "a7bf429b",
   "metadata": {},
   "outputs": [
    {
     "data": {
      "text/plain": [
       "FD    10201\n",
       "NC     2686\n",
       "DR     1317\n",
       "Name: Item_Code, dtype: int64"
      ]
     },
     "execution_count": 48,
     "metadata": {},
     "output_type": "execute_result"
    }
   ],
   "source": [
    "combinedf.Item_Code.value_counts()\n",
    "# FD - Food      NC - Non Consumables    DR - Drinks"
   ]
  },
  {
   "cell_type": "code",
   "execution_count": 49,
   "id": "a12df83d",
   "metadata": {},
   "outputs": [
    {
     "data": {
      "text/plain": [
       "Low Fat    8485\n",
       "Regular    4824\n",
       "LF          522\n",
       "reg         195\n",
       "low fat     178\n",
       "Name: Item_Fat_Content, dtype: int64"
      ]
     },
     "execution_count": 49,
     "metadata": {},
     "output_type": "execute_result"
    }
   ],
   "source": [
    "combinedf.Item_Fat_Content.value_counts() #Checking for duplicate levels or classes in categorical variables."
   ]
  },
  {
   "cell_type": "code",
   "execution_count": 50,
   "id": "685db049",
   "metadata": {},
   "outputs": [],
   "source": [
    "combinedf.Item_Fat_Content=combinedf.Item_Fat_Content.replace(\n",
    "['LF','low fat'], 'Low Fat') # replacing duplicate levels"
   ]
  },
  {
   "cell_type": "code",
   "execution_count": 51,
   "id": "9918fc3b",
   "metadata": {},
   "outputs": [],
   "source": [
    "combinedf.Item_Fat_Content=combinedf.Item_Fat_Content.replace('reg',\n",
    "                                                              'Regular')"
   ]
  },
  {
   "cell_type": "code",
   "execution_count": 52,
   "id": "1a8e3485",
   "metadata": {},
   "outputs": [
    {
     "data": {
      "text/plain": [
       "Low Fat    9185\n",
       "Regular    5019\n",
       "Name: Item_Fat_Content, dtype: int64"
      ]
     },
     "execution_count": 52,
     "metadata": {},
     "output_type": "execute_result"
    }
   ],
   "source": [
    "combinedf.Item_Fat_Content.value_counts()"
   ]
  },
  {
   "cell_type": "code",
   "execution_count": 53,
   "id": "bfe96400",
   "metadata": {},
   "outputs": [
    {
     "data": {
      "text/plain": [
       "count    14204.000000\n",
       "mean         0.065953\n",
       "std          0.051459\n",
       "min          0.000000\n",
       "25%          0.027036\n",
       "50%          0.054021\n",
       "75%          0.094037\n",
       "max          0.328391\n",
       "Name: Item_Visibility, dtype: float64"
      ]
     },
     "execution_count": 53,
     "metadata": {},
     "output_type": "execute_result"
    }
   ],
   "source": [
    "combinedf.Item_Visibility.describe() ##When Minimum is Zero, Always check how many cells in the column are\n",
    "# zeroes then Impute with Mean or Median"
   ]
  },
  {
   "cell_type": "code",
   "execution_count": 54,
   "id": "c9b3082b",
   "metadata": {},
   "outputs": [
    {
     "name": "stdout",
     "output_type": "stream",
     "text": [
      "(879, 13)\n"
     ]
    }
   ],
   "source": [
    "zerorows=combinedf[combinedf.Item_Visibility==0]\n",
    "print(zerorows.shape)"
   ]
  },
  {
   "cell_type": "code",
   "execution_count": 55,
   "id": "d6b0a3da",
   "metadata": {},
   "outputs": [],
   "source": [
    "combinedf.Item_Visibility=combinedf.Item_Visibility.replace(\n",
    "    0,combinedf.Item_Visibility.median()) ### zero rows are imputed with median."
   ]
  },
  {
   "cell_type": "code",
   "execution_count": 56,
   "id": "c3666d9a",
   "metadata": {},
   "outputs": [
    {
     "data": {
      "text/plain": [
       "Fruits and Vegetables    2013\n",
       "Snack Foods              1989\n",
       "Household                1548\n",
       "Frozen Foods             1426\n",
       "Dairy                    1136\n",
       "Baking Goods             1086\n",
       "Canned                   1084\n",
       "Health and Hygiene        858\n",
       "Meat                      736\n",
       "Soft Drinks               726\n",
       "Breads                    416\n",
       "Hard Drinks               362\n",
       "Others                    280\n",
       "Starchy Foods             269\n",
       "Breakfast                 186\n",
       "Seafood                    89\n",
       "Name: Item_Type, dtype: int64"
      ]
     },
     "execution_count": 56,
     "metadata": {},
     "output_type": "execute_result"
    }
   ],
   "source": [
    "combinedf.Item_Type.value_counts()"
   ]
  },
  {
   "cell_type": "code",
   "execution_count": 57,
   "id": "47e6853a",
   "metadata": {},
   "outputs": [
    {
     "data": {
      "text/plain": [
       "count    14204.000000\n",
       "mean       141.004977\n",
       "std         62.086938\n",
       "min         31.290000\n",
       "25%         94.012000\n",
       "50%        142.247000\n",
       "75%        185.855600\n",
       "max        266.888400\n",
       "Name: Item_MRP, dtype: float64"
      ]
     },
     "execution_count": 57,
     "metadata": {},
     "output_type": "execute_result"
    }
   ],
   "source": [
    "combinedf.Item_MRP.describe()"
   ]
  },
  {
   "cell_type": "code",
   "execution_count": 58,
   "id": "df61fbdf",
   "metadata": {},
   "outputs": [
    {
     "data": {
      "text/plain": [
       "OUT027    1559\n",
       "OUT013    1553\n",
       "OUT046    1550\n",
       "OUT049    1550\n",
       "OUT035    1550\n",
       "OUT045    1548\n",
       "OUT018    1546\n",
       "OUT017    1543\n",
       "OUT010     925\n",
       "OUT019     880\n",
       "Name: Outlet_Identifier, dtype: int64"
      ]
     },
     "execution_count": 58,
     "metadata": {},
     "output_type": "execute_result"
    }
   ],
   "source": [
    "combinedf.Outlet_Identifier.value_counts()"
   ]
  },
  {
   "cell_type": "code",
   "execution_count": 59,
   "id": "469e496c",
   "metadata": {},
   "outputs": [],
   "source": [
    "# Create a new Column called Outlet_Age from Outlet_Establishment_Year\n",
    "# Age of the Outlet as of year 2020\n",
    "combinedf['Outlet_Age']=2020-combinedf.Outlet_Establishment_Year"
   ]
  },
  {
   "cell_type": "code",
   "execution_count": 60,
   "id": "bf8fe417",
   "metadata": {},
   "outputs": [
    {
     "data": {
      "text/plain": [
       "count    14204.000000\n",
       "mean        22.169319\n",
       "std          8.371664\n",
       "min         11.000000\n",
       "25%         16.000000\n",
       "50%         21.000000\n",
       "75%         33.000000\n",
       "max         35.000000\n",
       "Name: Outlet_Age, dtype: float64"
      ]
     },
     "execution_count": 60,
     "metadata": {},
     "output_type": "execute_result"
    }
   ],
   "source": [
    "combinedf.Outlet_Age.describe()"
   ]
  },
  {
   "cell_type": "code",
   "execution_count": 61,
   "id": "0dcdce94",
   "metadata": {},
   "outputs": [
    {
     "data": {
      "text/plain": [
       "Tier 3    5583\n",
       "Tier 2    4641\n",
       "Tier 1    3980\n",
       "Name: Outlet_Location_Type, dtype: int64"
      ]
     },
     "execution_count": 61,
     "metadata": {},
     "output_type": "execute_result"
    }
   ],
   "source": [
    "combinedf.Outlet_Location_Type.value_counts()"
   ]
  },
  {
   "cell_type": "code",
   "execution_count": 62,
   "id": "a99d5c55",
   "metadata": {},
   "outputs": [
    {
     "data": {
      "text/plain": [
       "Supermarket Type1    9294\n",
       "Grocery Store        1805\n",
       "Supermarket Type3    1559\n",
       "Supermarket Type2    1546\n",
       "Name: Outlet_Type, dtype: int64"
      ]
     },
     "execution_count": 62,
     "metadata": {},
     "output_type": "execute_result"
    }
   ],
   "source": [
    "combinedf.Outlet_Type.value_counts()"
   ]
  },
  {
   "cell_type": "code",
   "execution_count": 63,
   "id": "000f8455",
   "metadata": {},
   "outputs": [
    {
     "data": {
      "text/plain": [
       "Index(['Item_Identifier', 'Item_Weight', 'Item_Fat_Content', 'Item_Visibility',\n",
       "       'Item_Type', 'Item_MRP', 'Outlet_Identifier',\n",
       "       'Outlet_Establishment_Year', 'Outlet_Size', 'Outlet_Location_Type',\n",
       "       'Outlet_Type', 'Item_Outlet_Sales', 'Item_Code', 'Outlet_Age'],\n",
       "      dtype='object')"
      ]
     },
     "execution_count": 63,
     "metadata": {},
     "output_type": "execute_result"
    }
   ],
   "source": [
    "combinedf.columns"
   ]
  },
  {
   "cell_type": "code",
   "execution_count": 64,
   "id": "69a7c7ac",
   "metadata": {},
   "outputs": [],
   "source": [
    "#Split dataframe into Numeric Columns & Object Columns\n",
    "numericcols=combinedf[['Item_Weight','Item_Visibility','Item_MRP',\n",
    "                      'Item_Outlet_Sales','Outlet_Age']]"
   ]
  },
  {
   "cell_type": "code",
   "execution_count": 65,
   "id": "56be7a80",
   "metadata": {},
   "outputs": [],
   "source": [
    "objectcols=combinedf[['Item_Fat_Content','Item_Type','Outlet_Identifier',\n",
    "                     'Outlet_Size', 'Outlet_Location_Type','Outlet_Type',\n",
    "                     'Item_Code']]"
   ]
  },
  {
   "cell_type": "code",
   "execution_count": 66,
   "id": "7f7acffd",
   "metadata": {},
   "outputs": [],
   "source": [
    "from sklearn.preprocessing import LabelEncoder"
   ]
  },
  {
   "cell_type": "code",
   "execution_count": 67,
   "id": "2c05dc03",
   "metadata": {},
   "outputs": [],
   "source": [
    "le=LabelEncoder() # Label Encoder assigns numeric identifiers to text data or categorical levels \n",
    "#starting from 0 to n levels in Alphabetical Order.\n"
   ]
  },
  {
   "cell_type": "code",
   "execution_count": 68,
   "id": "6380d1e3",
   "metadata": {},
   "outputs": [],
   "source": [
    "objectcolslabelEncode=objectcols.apply(le.fit_transform)"
   ]
  },
  {
   "cell_type": "code",
   "execution_count": 69,
   "id": "218bd5fb",
   "metadata": {
    "scrolled": true
   },
   "outputs": [
    {
     "data": {
      "text/html": [
       "<div>\n",
       "<style scoped>\n",
       "    .dataframe tbody tr th:only-of-type {\n",
       "        vertical-align: middle;\n",
       "    }\n",
       "\n",
       "    .dataframe tbody tr th {\n",
       "        vertical-align: top;\n",
       "    }\n",
       "\n",
       "    .dataframe thead th {\n",
       "        text-align: right;\n",
       "    }\n",
       "</style>\n",
       "<table border=\"1\" class=\"dataframe\">\n",
       "  <thead>\n",
       "    <tr style=\"text-align: right;\">\n",
       "      <th></th>\n",
       "      <th>Item_Fat_Content</th>\n",
       "      <th>Item_Type</th>\n",
       "      <th>Outlet_Identifier</th>\n",
       "      <th>Outlet_Size</th>\n",
       "      <th>Outlet_Location_Type</th>\n",
       "      <th>Outlet_Type</th>\n",
       "      <th>Item_Code</th>\n",
       "    </tr>\n",
       "  </thead>\n",
       "  <tbody>\n",
       "    <tr>\n",
       "      <th>0</th>\n",
       "      <td>Low Fat</td>\n",
       "      <td>Dairy</td>\n",
       "      <td>OUT049</td>\n",
       "      <td>Medium</td>\n",
       "      <td>Tier 1</td>\n",
       "      <td>Supermarket Type1</td>\n",
       "      <td>FD</td>\n",
       "    </tr>\n",
       "    <tr>\n",
       "      <th>1</th>\n",
       "      <td>Regular</td>\n",
       "      <td>Soft Drinks</td>\n",
       "      <td>OUT018</td>\n",
       "      <td>Medium</td>\n",
       "      <td>Tier 3</td>\n",
       "      <td>Supermarket Type2</td>\n",
       "      <td>DR</td>\n",
       "    </tr>\n",
       "    <tr>\n",
       "      <th>2</th>\n",
       "      <td>Low Fat</td>\n",
       "      <td>Meat</td>\n",
       "      <td>OUT049</td>\n",
       "      <td>Medium</td>\n",
       "      <td>Tier 1</td>\n",
       "      <td>Supermarket Type1</td>\n",
       "      <td>FD</td>\n",
       "    </tr>\n",
       "  </tbody>\n",
       "</table>\n",
       "</div>"
      ],
      "text/plain": [
       "  Item_Fat_Content    Item_Type Outlet_Identifier Outlet_Size  \\\n",
       "0          Low Fat        Dairy            OUT049      Medium   \n",
       "1          Regular  Soft Drinks            OUT018      Medium   \n",
       "2          Low Fat         Meat            OUT049      Medium   \n",
       "\n",
       "  Outlet_Location_Type        Outlet_Type Item_Code  \n",
       "0               Tier 1  Supermarket Type1        FD  \n",
       "1               Tier 3  Supermarket Type2        DR  \n",
       "2               Tier 1  Supermarket Type1        FD  "
      ]
     },
     "execution_count": 69,
     "metadata": {},
     "output_type": "execute_result"
    }
   ],
   "source": [
    "objectcols.head(3)"
   ]
  },
  {
   "cell_type": "code",
   "execution_count": 70,
   "id": "134ac4f4",
   "metadata": {},
   "outputs": [
    {
     "data": {
      "text/html": [
       "<div>\n",
       "<style scoped>\n",
       "    .dataframe tbody tr th:only-of-type {\n",
       "        vertical-align: middle;\n",
       "    }\n",
       "\n",
       "    .dataframe tbody tr th {\n",
       "        vertical-align: top;\n",
       "    }\n",
       "\n",
       "    .dataframe thead th {\n",
       "        text-align: right;\n",
       "    }\n",
       "</style>\n",
       "<table border=\"1\" class=\"dataframe\">\n",
       "  <thead>\n",
       "    <tr style=\"text-align: right;\">\n",
       "      <th></th>\n",
       "      <th>Item_Fat_Content</th>\n",
       "      <th>Item_Type</th>\n",
       "      <th>Outlet_Identifier</th>\n",
       "      <th>Outlet_Size</th>\n",
       "      <th>Outlet_Location_Type</th>\n",
       "      <th>Outlet_Type</th>\n",
       "      <th>Item_Code</th>\n",
       "    </tr>\n",
       "  </thead>\n",
       "  <tbody>\n",
       "    <tr>\n",
       "      <th>0</th>\n",
       "      <td>0</td>\n",
       "      <td>4</td>\n",
       "      <td>9</td>\n",
       "      <td>1</td>\n",
       "      <td>0</td>\n",
       "      <td>1</td>\n",
       "      <td>1</td>\n",
       "    </tr>\n",
       "    <tr>\n",
       "      <th>1</th>\n",
       "      <td>1</td>\n",
       "      <td>14</td>\n",
       "      <td>3</td>\n",
       "      <td>1</td>\n",
       "      <td>2</td>\n",
       "      <td>2</td>\n",
       "      <td>0</td>\n",
       "    </tr>\n",
       "    <tr>\n",
       "      <th>2</th>\n",
       "      <td>0</td>\n",
       "      <td>10</td>\n",
       "      <td>9</td>\n",
       "      <td>1</td>\n",
       "      <td>0</td>\n",
       "      <td>1</td>\n",
       "      <td>1</td>\n",
       "    </tr>\n",
       "  </tbody>\n",
       "</table>\n",
       "</div>"
      ],
      "text/plain": [
       "   Item_Fat_Content  Item_Type  Outlet_Identifier  Outlet_Size  \\\n",
       "0                 0          4                  9            1   \n",
       "1                 1         14                  3            1   \n",
       "2                 0         10                  9            1   \n",
       "\n",
       "   Outlet_Location_Type  Outlet_Type  Item_Code  \n",
       "0                     0            1          1  \n",
       "1                     2            2          0  \n",
       "2                     0            1          1  "
      ]
     },
     "execution_count": 70,
     "metadata": {},
     "output_type": "execute_result"
    }
   ],
   "source": [
    "objectcolslabelEncode.head(3)"
   ]
  },
  {
   "cell_type": "code",
   "execution_count": 71,
   "id": "e23c44ae",
   "metadata": {},
   "outputs": [
    {
     "name": "stdout",
     "output_type": "stream",
     "text": [
      "(14204, 7)\n",
      "(14204, 7)\n"
     ]
    }
   ],
   "source": [
    "print(objectcols.shape)\n",
    "print(objectcolslabelEncode.shape)"
   ]
  },
  {
   "cell_type": "code",
   "execution_count": 72,
   "id": "af150af1",
   "metadata": {},
   "outputs": [],
   "source": [
    "objectcolsdummy=pd.get_dummies(objectcols) ##pd.get_dummies() - Create new Columns in Data\n",
    "# & use Binary Encoding (0-No & 1-yes)"
   ]
  },
  {
   "cell_type": "code",
   "execution_count": 73,
   "id": "9139d9d3",
   "metadata": {},
   "outputs": [
    {
     "data": {
      "text/html": [
       "<div>\n",
       "<style scoped>\n",
       "    .dataframe tbody tr th:only-of-type {\n",
       "        vertical-align: middle;\n",
       "    }\n",
       "\n",
       "    .dataframe tbody tr th {\n",
       "        vertical-align: top;\n",
       "    }\n",
       "\n",
       "    .dataframe thead th {\n",
       "        text-align: right;\n",
       "    }\n",
       "</style>\n",
       "<table border=\"1\" class=\"dataframe\">\n",
       "  <thead>\n",
       "    <tr style=\"text-align: right;\">\n",
       "      <th></th>\n",
       "      <th>Item_Fat_Content_Low Fat</th>\n",
       "      <th>Item_Fat_Content_Regular</th>\n",
       "      <th>Item_Type_Baking Goods</th>\n",
       "      <th>Item_Type_Breads</th>\n",
       "      <th>Item_Type_Breakfast</th>\n",
       "      <th>Item_Type_Canned</th>\n",
       "      <th>Item_Type_Dairy</th>\n",
       "      <th>Item_Type_Frozen Foods</th>\n",
       "      <th>Item_Type_Fruits and Vegetables</th>\n",
       "      <th>Item_Type_Hard Drinks</th>\n",
       "      <th>...</th>\n",
       "      <th>Outlet_Location_Type_Tier 1</th>\n",
       "      <th>Outlet_Location_Type_Tier 2</th>\n",
       "      <th>Outlet_Location_Type_Tier 3</th>\n",
       "      <th>Outlet_Type_Grocery Store</th>\n",
       "      <th>Outlet_Type_Supermarket Type1</th>\n",
       "      <th>Outlet_Type_Supermarket Type2</th>\n",
       "      <th>Outlet_Type_Supermarket Type3</th>\n",
       "      <th>Item_Code_DR</th>\n",
       "      <th>Item_Code_FD</th>\n",
       "      <th>Item_Code_NC</th>\n",
       "    </tr>\n",
       "  </thead>\n",
       "  <tbody>\n",
       "    <tr>\n",
       "      <th>0</th>\n",
       "      <td>1</td>\n",
       "      <td>0</td>\n",
       "      <td>0</td>\n",
       "      <td>0</td>\n",
       "      <td>0</td>\n",
       "      <td>0</td>\n",
       "      <td>1</td>\n",
       "      <td>0</td>\n",
       "      <td>0</td>\n",
       "      <td>0</td>\n",
       "      <td>...</td>\n",
       "      <td>1</td>\n",
       "      <td>0</td>\n",
       "      <td>0</td>\n",
       "      <td>0</td>\n",
       "      <td>1</td>\n",
       "      <td>0</td>\n",
       "      <td>0</td>\n",
       "      <td>0</td>\n",
       "      <td>1</td>\n",
       "      <td>0</td>\n",
       "    </tr>\n",
       "    <tr>\n",
       "      <th>1</th>\n",
       "      <td>0</td>\n",
       "      <td>1</td>\n",
       "      <td>0</td>\n",
       "      <td>0</td>\n",
       "      <td>0</td>\n",
       "      <td>0</td>\n",
       "      <td>0</td>\n",
       "      <td>0</td>\n",
       "      <td>0</td>\n",
       "      <td>0</td>\n",
       "      <td>...</td>\n",
       "      <td>0</td>\n",
       "      <td>0</td>\n",
       "      <td>1</td>\n",
       "      <td>0</td>\n",
       "      <td>0</td>\n",
       "      <td>1</td>\n",
       "      <td>0</td>\n",
       "      <td>1</td>\n",
       "      <td>0</td>\n",
       "      <td>0</td>\n",
       "    </tr>\n",
       "    <tr>\n",
       "      <th>2</th>\n",
       "      <td>1</td>\n",
       "      <td>0</td>\n",
       "      <td>0</td>\n",
       "      <td>0</td>\n",
       "      <td>0</td>\n",
       "      <td>0</td>\n",
       "      <td>0</td>\n",
       "      <td>0</td>\n",
       "      <td>0</td>\n",
       "      <td>0</td>\n",
       "      <td>...</td>\n",
       "      <td>1</td>\n",
       "      <td>0</td>\n",
       "      <td>0</td>\n",
       "      <td>0</td>\n",
       "      <td>1</td>\n",
       "      <td>0</td>\n",
       "      <td>0</td>\n",
       "      <td>0</td>\n",
       "      <td>1</td>\n",
       "      <td>0</td>\n",
       "    </tr>\n",
       "    <tr>\n",
       "      <th>3</th>\n",
       "      <td>0</td>\n",
       "      <td>1</td>\n",
       "      <td>0</td>\n",
       "      <td>0</td>\n",
       "      <td>0</td>\n",
       "      <td>0</td>\n",
       "      <td>0</td>\n",
       "      <td>0</td>\n",
       "      <td>1</td>\n",
       "      <td>0</td>\n",
       "      <td>...</td>\n",
       "      <td>0</td>\n",
       "      <td>0</td>\n",
       "      <td>1</td>\n",
       "      <td>1</td>\n",
       "      <td>0</td>\n",
       "      <td>0</td>\n",
       "      <td>0</td>\n",
       "      <td>0</td>\n",
       "      <td>1</td>\n",
       "      <td>0</td>\n",
       "    </tr>\n",
       "    <tr>\n",
       "      <th>4</th>\n",
       "      <td>1</td>\n",
       "      <td>0</td>\n",
       "      <td>0</td>\n",
       "      <td>0</td>\n",
       "      <td>0</td>\n",
       "      <td>0</td>\n",
       "      <td>0</td>\n",
       "      <td>0</td>\n",
       "      <td>0</td>\n",
       "      <td>0</td>\n",
       "      <td>...</td>\n",
       "      <td>0</td>\n",
       "      <td>0</td>\n",
       "      <td>1</td>\n",
       "      <td>0</td>\n",
       "      <td>1</td>\n",
       "      <td>0</td>\n",
       "      <td>0</td>\n",
       "      <td>0</td>\n",
       "      <td>0</td>\n",
       "      <td>1</td>\n",
       "    </tr>\n",
       "  </tbody>\n",
       "</table>\n",
       "<p>5 rows × 42 columns</p>\n",
       "</div>"
      ],
      "text/plain": [
       "   Item_Fat_Content_Low Fat  Item_Fat_Content_Regular  Item_Type_Baking Goods  \\\n",
       "0                         1                         0                       0   \n",
       "1                         0                         1                       0   \n",
       "2                         1                         0                       0   \n",
       "3                         0                         1                       0   \n",
       "4                         1                         0                       0   \n",
       "\n",
       "   Item_Type_Breads  Item_Type_Breakfast  Item_Type_Canned  Item_Type_Dairy  \\\n",
       "0                 0                    0                 0                1   \n",
       "1                 0                    0                 0                0   \n",
       "2                 0                    0                 0                0   \n",
       "3                 0                    0                 0                0   \n",
       "4                 0                    0                 0                0   \n",
       "\n",
       "   Item_Type_Frozen Foods  Item_Type_Fruits and Vegetables  \\\n",
       "0                       0                                0   \n",
       "1                       0                                0   \n",
       "2                       0                                0   \n",
       "3                       0                                1   \n",
       "4                       0                                0   \n",
       "\n",
       "   Item_Type_Hard Drinks  ...  Outlet_Location_Type_Tier 1  \\\n",
       "0                      0  ...                            1   \n",
       "1                      0  ...                            0   \n",
       "2                      0  ...                            1   \n",
       "3                      0  ...                            0   \n",
       "4                      0  ...                            0   \n",
       "\n",
       "   Outlet_Location_Type_Tier 2  Outlet_Location_Type_Tier 3  \\\n",
       "0                            0                            0   \n",
       "1                            0                            1   \n",
       "2                            0                            0   \n",
       "3                            0                            1   \n",
       "4                            0                            1   \n",
       "\n",
       "   Outlet_Type_Grocery Store  Outlet_Type_Supermarket Type1  \\\n",
       "0                          0                              1   \n",
       "1                          0                              0   \n",
       "2                          0                              1   \n",
       "3                          1                              0   \n",
       "4                          0                              1   \n",
       "\n",
       "   Outlet_Type_Supermarket Type2  Outlet_Type_Supermarket Type3  Item_Code_DR  \\\n",
       "0                              0                              0             0   \n",
       "1                              1                              0             1   \n",
       "2                              0                              0             0   \n",
       "3                              0                              0             0   \n",
       "4                              0                              0             0   \n",
       "\n",
       "   Item_Code_FD  Item_Code_NC  \n",
       "0             1             0  \n",
       "1             0             0  \n",
       "2             1             0  \n",
       "3             1             0  \n",
       "4             0             1  \n",
       "\n",
       "[5 rows x 42 columns]"
      ]
     },
     "execution_count": 73,
     "metadata": {},
     "output_type": "execute_result"
    }
   ],
   "source": [
    "objectcolsdummy.head()"
   ]
  },
  {
   "cell_type": "code",
   "execution_count": 74,
   "id": "74fd26eb",
   "metadata": {},
   "outputs": [],
   "source": [
    "combinedfclean=pd.concat([numericcols,objectcolsdummy],axis=1)\n",
    "# axis=1 is Columns wise Concatenation "
   ]
  },
  {
   "cell_type": "code",
   "execution_count": 75,
   "id": "f61676cf",
   "metadata": {},
   "outputs": [],
   "source": [
    "# Split Data Back to Train & test\n",
    "bigmarttraindf=combinedfclean[combinedfclean.Item_Outlet_Sales!='test']\n",
    "bigmarttestdf=combinedfclean[combinedfclean.Item_Outlet_Sales=='test']"
   ]
  },
  {
   "cell_type": "code",
   "execution_count": 76,
   "id": "f9e42649",
   "metadata": {},
   "outputs": [],
   "source": [
    "# Drop Item_Outlet_Sales from bigmarttestdf\n",
    "bigmarttestdf=bigmarttestdf.drop('Item_Outlet_Sales',axis=1)"
   ]
  },
  {
   "cell_type": "code",
   "execution_count": 77,
   "id": "262d48df",
   "metadata": {},
   "outputs": [
    {
     "name": "stdout",
     "output_type": "stream",
     "text": [
      "(8523, 47)\n",
      "(5681, 46)\n"
     ]
    }
   ],
   "source": [
    "print(bigmarttraindf.shape)\n",
    "print(bigmarttestdf.shape)"
   ]
  },
  {
   "cell_type": "code",
   "execution_count": 78,
   "id": "94ed4453",
   "metadata": {},
   "outputs": [],
   "source": [
    "# Split Train Data into Dependent Variable(y) and Independent Variables(X)\n",
    "y=bigmarttraindf.Item_Outlet_Sales\n",
    "X=bigmarttraindf.drop('Item_Outlet_Sales',axis=1)"
   ]
  },
  {
   "cell_type": "code",
   "execution_count": 79,
   "id": "d60e7bec",
   "metadata": {},
   "outputs": [
    {
     "data": {
      "text/plain": [
       "0    3735.138\n",
       "1    443.4228\n",
       "2     2097.27\n",
       "3      732.38\n",
       "4    994.7052\n",
       "Name: Item_Outlet_Sales, dtype: object"
      ]
     },
     "execution_count": 79,
     "metadata": {},
     "output_type": "execute_result"
    }
   ],
   "source": [
    "y.head()"
   ]
  },
  {
   "cell_type": "code",
   "execution_count": 80,
   "id": "e883c3c7",
   "metadata": {},
   "outputs": [],
   "source": [
    "y=pd.to_numeric(y)"
   ]
  },
  {
   "cell_type": "code",
   "execution_count": 81,
   "id": "8d723f96",
   "metadata": {},
   "outputs": [
    {
     "name": "stdout",
     "output_type": "stream",
     "text": [
      "1.1775306028542796\n"
     ]
    },
    {
     "data": {
      "image/png": "[encoded data removed]",
      "text/plain": [
       "<Figure size 432x288 with 1 Axes>"
      ]
     },
     "metadata": {
      "needs_background": "light"
     },
     "output_type": "display_data"
    }
   ],
   "source": [
    "# Basic Assumption of Depedent Variable\n",
    "# Check using histogram, boxplot & density Curve\n",
    "y.plot(kind='hist')\n",
    "print(y.skew())"
   ]
  },
  {
   "cell_type": "code",
   "execution_count": 82,
   "id": "7f9fb228",
   "metadata": {},
   "outputs": [
    {
     "data": {
      "text/plain": [
       "<AxesSubplot:>"
      ]
     },
     "execution_count": 82,
     "metadata": {},
     "output_type": "execute_result"
    },
    {
     "data": {
      "image/png": "[encoded data removed]",
      "text/plain": [
       "<Figure size 432x288 with 1 Axes>"
      ]
     },
     "metadata": {
      "needs_background": "light"
     },
     "output_type": "display_data"
    }
   ],
   "source": [
    "y.plot(kind='box',vert=False) ## Boxplot identifies outliers using formula\n",
    "# Minimum - Q1 - 1.5 * IQR\n",
    "# Maximum - Q3 + 1.5 * IQR"
   ]
  },
  {
   "cell_type": "code",
   "execution_count": 83,
   "id": "3893fdca",
   "metadata": {},
   "outputs": [
    {
     "data": {
      "text/plain": [
       "<AxesSubplot:ylabel='Density'>"
      ]
     },
     "execution_count": 83,
     "metadata": {},
     "output_type": "execute_result"
    },
    {
     "data": {
      "image/png": "[encoded data removed]",
      "text/plain": [
       "<Figure size 432x288 with 1 Axes>"
      ]
     },
     "metadata": {
      "needs_background": "light"
     },
     "output_type": "display_data"
    }
   ],
   "source": [
    "y.plot(kind='density')"
   ]
  },
  {
   "cell_type": "markdown",
   "id": "33d752e9",
   "metadata": {},
   "source": [
    "# Model Building"
   ]
  },
  {
   "cell_type": "markdown",
   "id": "5756451b",
   "metadata": {},
   "source": [
    "# LinearRegression"
   ]
  },
  {
   "cell_type": "code",
   "execution_count": 84,
   "id": "015297d4",
   "metadata": {},
   "outputs": [],
   "source": [
    "from sklearn.linear_model import LinearRegression"
   ]
  },
  {
   "cell_type": "code",
   "execution_count": 85,
   "id": "0cc7da22",
   "metadata": {},
   "outputs": [],
   "source": [
    "reg=LinearRegression()"
   ]
  },
  {
   "cell_type": "code",
   "execution_count": 86,
   "id": "c226c55f",
   "metadata": {},
   "outputs": [],
   "source": [
    "regmodel=reg.fit(X,y)"
   ]
  },
  {
   "cell_type": "code",
   "execution_count": 87,
   "id": "2c338d6a",
   "metadata": {},
   "outputs": [
    {
     "data": {
      "text/plain": [
       "0.563745756733816"
      ]
     },
     "execution_count": 87,
     "metadata": {},
     "output_type": "execute_result"
    }
   ],
   "source": [
    "regmodel.score(X,y) # R Square is 0.56 "
   ]
  },
  {
   "cell_type": "code",
   "execution_count": 88,
   "id": "fc88f00a",
   "metadata": {},
   "outputs": [
    {
     "data": {
      "text/plain": [
       "-564.5369868393805"
      ]
     },
     "execution_count": 88,
     "metadata": {},
     "output_type": "execute_result"
    }
   ],
   "source": [
    "regmodel.intercept_"
   ]
  },
  {
   "cell_type": "code",
   "execution_count": 89,
   "id": "e104b35a",
   "metadata": {},
   "outputs": [
    {
     "name": "stdout",
     "output_type": "stream",
     "text": [
      "[('Item_Weight', -0.5242333788152896), ('Item_Visibility', -251.62868598320668), ('Item_MRP', 15.570399334380252), ('Outlet_Age', 14.35792395040023), ('Item_Fat_Content_Low Fat', -21.02524815865419), ('Item_Fat_Content_Regular', 21.02524815865258), ('Item_Type_Baking Goods', -2.8240454244814743), ('Item_Type_Breads', 2.4245700761575217), ('Item_Type_Breakfast', 3.105641583076262), ('Item_Type_Canned', 22.416513066432326), ('Item_Type_Dairy', -53.317598357430356), ('Item_Type_Frozen Foods', -30.850921638505834), ('Item_Type_Fruits and Vegetables', 26.9364445806195), ('Item_Type_Hard Drinks', -48.404853379457776), ('Item_Type_Health and Hygiene', 4.596608021810993), ('Item_Type_Household', -24.554056283620397), ('Item_Type_Meat', -3.378598661887533), ('Item_Type_Others', -6.586071837584244), ('Item_Type_Seafood', 181.73963717054374), ('Item_Type_Snack Foods', -14.300353486003738), ('Item_Type_Soft Drinks', -75.99468657947443), ('Item_Type_Starchy Foods', 18.991771149794104), ('Outlet_Identifier_OUT010', -418.61298461237374), ('Outlet_Identifier_OUT013', -79.31006599461823), ('Outlet_Identifier_OUT017', 211.1402127147344), ('Outlet_Identifier_OUT018', -92.74190592450259), ('Outlet_Identifier_OUT019', -473.90609443351434), ('Outlet_Identifier_OUT027', 598.5184949254312), ('Outlet_Identifier_OUT035', 64.56075884782045), ('Outlet_Identifier_OUT045', -34.848153391887614), ('Outlet_Identifier_OUT046', 310.0400350738304), ('Outlet_Identifier_OUT049', -84.84029720491529), ('Outlet_Size_High', -79.31006599461823), ('Outlet_Size_Medium', 420.9362917960073), ('Outlet_Size_Small', -99.30530051186706), ('Outlet_Size_Unknown', -242.32092528952194), ('Outlet_Location_Type_Tier 1', -248.70635656460345), ('Outlet_Location_Type_Tier 2', 240.85281817066917), ('Outlet_Location_Type_Tier 3', 7.853538393942644), ('Outlet_Type_Grocery Store', -892.5190790458878), ('Outlet_Type_Supermarket Type1', 386.7424900449562), ('Outlet_Type_Supermarket Type2', -92.74190592450162), ('Outlet_Type_Supermarket Type3', 598.5184949254314), ('Item_Code_DR', 36.37251941150678), ('Item_Code_FD', -9.828999312105967), ('Item_Code_NC', -26.543520099383812)]\n"
     ]
    }
   ],
   "source": [
    "print(list(zip(X.columns,regmodel.coef_)))"
   ]
  },
  {
   "cell_type": "code",
   "execution_count": 90,
   "id": "38eacfcf",
   "metadata": {},
   "outputs": [],
   "source": [
    "regpredict=regmodel.predict(X)"
   ]
  },
  {
   "cell_type": "code",
   "execution_count": 91,
   "id": "c029758a",
   "metadata": {},
   "outputs": [],
   "source": [
    "regresidual=y-regpredict"
   ]
  },
  {
   "cell_type": "code",
   "execution_count": 92,
   "id": "860235ec",
   "metadata": {},
   "outputs": [
    {
     "data": {
      "text/plain": [
       "1127.0691114311414"
      ]
     },
     "execution_count": 92,
     "metadata": {},
     "output_type": "execute_result"
    }
   ],
   "source": [
    "np.sqrt(np.mean(regresidual**2)) # RMSE -1127.0691"
   ]
  },
  {
   "cell_type": "code",
   "execution_count": 93,
   "id": "5a1a5d35",
   "metadata": {},
   "outputs": [],
   "source": [
    "# Submit to Competition Site \n",
    "testpredict=regmodel.predict(bigmarttestdf)"
   ]
  },
  {
   "cell_type": "code",
   "execution_count": 94,
   "id": "2c86ca13",
   "metadata": {},
   "outputs": [
    {
     "data": {
      "text/plain": [
       "array([1832.63309797, 1521.99278353, 1883.07654544, ..., 1826.50698315,\n",
       "       3572.27662662, 1289.06940991])"
      ]
     },
     "execution_count": 94,
     "metadata": {},
     "output_type": "execute_result"
    }
   ],
   "source": [
    "testpredict"
   ]
  },
  {
   "cell_type": "code",
   "execution_count": 95,
   "id": "116abf2c",
   "metadata": {},
   "outputs": [],
   "source": [
    "#pd.DataFrame(testpredict).to_csv(\"reg.csv\")"
   ]
  },
  {
   "cell_type": "markdown",
   "id": "d83e805d",
   "metadata": {},
   "source": [
    "# DecisionTree"
   ]
  },
  {
   "cell_type": "code",
   "execution_count": 102,
   "id": "ad4ebbc1",
   "metadata": {},
   "outputs": [],
   "source": [
    "from sklearn.tree import DecisionTreeRegressor"
   ]
  },
  {
   "cell_type": "code",
   "execution_count": 103,
   "id": "c8a1e307",
   "metadata": {},
   "outputs": [],
   "source": [
    "tree= DecisionTreeRegressor()"
   ]
  },
  {
   "cell_type": "code",
   "execution_count": 104,
   "id": "0096e5fd",
   "metadata": {},
   "outputs": [],
   "source": [
    "treemodel=tree.fit(X,y)"
   ]
  },
  {
   "cell_type": "code",
   "execution_count": 105,
   "id": "577a3c78",
   "metadata": {},
   "outputs": [
    {
     "data": {
      "text/plain": [
       "1.0"
      ]
     },
     "execution_count": 105,
     "metadata": {},
     "output_type": "execute_result"
    }
   ],
   "source": [
    "treemodel.score(X,y)"
   ]
  },
  {
   "cell_type": "code",
   "execution_count": 106,
   "id": "631bc134",
   "metadata": {},
   "outputs": [],
   "source": [
    "treepredict=treemodel.predict(bigmarttestdf)"
   ]
  },
  {
   "cell_type": "code",
   "execution_count": 107,
   "id": "22b176d3",
   "metadata": {},
   "outputs": [],
   "source": [
    "pd.DataFrame(treepredict).to_csv(\"tree.csv\")"
   ]
  },
  {
   "cell_type": "code",
   "execution_count": 108,
   "id": "9cf7efa1",
   "metadata": {},
   "outputs": [],
   "source": [
    "tree2=DecisionTreeRegressor(max_depth=20)"
   ]
  },
  {
   "cell_type": "code",
   "execution_count": 109,
   "id": "56e324b9",
   "metadata": {},
   "outputs": [],
   "source": [
    "tree2model=tree2.fit(X,y)"
   ]
  },
  {
   "cell_type": "code",
   "execution_count": 110,
   "id": "15723ab9",
   "metadata": {},
   "outputs": [
    {
     "data": {
      "text/plain": [
       "0.9327951162321187"
      ]
     },
     "execution_count": 110,
     "metadata": {},
     "output_type": "execute_result"
    }
   ],
   "source": [
    "tree2model.score(X,y)"
   ]
  },
  {
   "cell_type": "code",
   "execution_count": 111,
   "id": "21e2ad82",
   "metadata": {},
   "outputs": [],
   "source": [
    "tree2predict=tree2model.predict(bigmarttestdf)"
   ]
  },
  {
   "cell_type": "code",
   "execution_count": 112,
   "id": "e1a05b0e",
   "metadata": {},
   "outputs": [],
   "source": [
    "pd.DataFrame(tree2predict).to_csv(\"tree2.csv\")"
   ]
  },
  {
   "cell_type": "code",
   "execution_count": 113,
   "id": "3ea79674",
   "metadata": {},
   "outputs": [],
   "source": [
    "from sklearn.tree import DecisionTreeRegressor"
   ]
  },
  {
   "cell_type": "code",
   "execution_count": 114,
   "id": "f5469497",
   "metadata": {},
   "outputs": [],
   "source": [
    "from sklearn.tree import plot_tree"
   ]
  },
  {
   "cell_type": "code",
   "execution_count": 115,
   "id": "dac610cd",
   "metadata": {},
   "outputs": [],
   "source": [
    "import matplotlib.pyplot as plt"
   ]
  },
  {
   "cell_type": "code",
   "execution_count": 116,
   "id": "3b6b8bf9",
   "metadata": {},
   "outputs": [
    {
     "data": {
      "text/plain": [
       "[Text(334.8, 570.7800000000001, 'Item_MRP <= 143.53\\nmse = 2911799.258\\nsamples = 8523\\nvalue = 2181.289'),\n",
       " Text(167.4, 407.70000000000005, 'Outlet_Type_Grocery Store <= 0.5\\nmse = 964255.849\\nsamples = 4296\\nvalue = 1357.917'),\n",
       " Text(83.7, 244.62, 'Item_MRP <= 76.433\\nmse = 882485.461\\nsamples = 3757\\nvalue = 1523.016'),\n",
       " Text(41.85, 81.53999999999996, '\\n  (...)  \\n'),\n",
       " Text(125.55000000000001, 81.53999999999996, '\\n  (...)  \\n'),\n",
       " Text(251.10000000000002, 244.62, 'Item_MRP <= 82.011\\nmse = 19917.889\\nsamples = 539\\nvalue = 207.131'),\n",
       " Text(209.25, 81.53999999999996, '\\n  (...)  \\n'),\n",
       " Text(292.95, 81.53999999999996, '\\n  (...)  \\n'),\n",
       " Text(502.20000000000005, 407.70000000000005, 'Outlet_Type_Grocery Store <= 0.5\\nmse = 3501872.303\\nsamples = 4227\\nvalue = 3018.101'),\n",
       " Text(418.5, 244.62, 'Outlet_Identifier_OUT027 <= 0.5\\nmse = 2907623.078\\nsamples = 3683\\nvalue = 3394.277'),\n",
       " Text(376.65000000000003, 81.53999999999996, '\\n  (...)  \\n'),\n",
       " Text(460.35, 81.53999999999996, '\\n  (...)  \\n'),\n",
       " Text(585.9, 244.62, 'Item_MRP <= 181.532\\nmse = 80868.326\\nsamples = 544\\nvalue = 471.307'),\n",
       " Text(544.0500000000001, 81.53999999999996, '\\n  (...)  \\n'),\n",
       " Text(627.75, 81.53999999999996, '\\n  (...)  \\n')]"
      ]
     },
     "execution_count": 116,
     "metadata": {},
     "output_type": "execute_result"
    },
    {
     "data": {
      "image/png": "[encoded data removed]",
      "text/plain": [
       "<Figure size 864x864 with 1 Axes>"
      ]
     },
     "metadata": {
      "needs_background": "light"
     },
     "output_type": "display_data"
    }
   ],
   "source": [
    "plt.figure(figsize=(12,12))\n",
    "plot_tree(treemodel,feature_names=X.columns,max_depth=2)"
   ]
  },
  {
   "cell_type": "code",
   "execution_count": 117,
   "id": "c24048ef",
   "metadata": {},
   "outputs": [
    {
     "name": "stdout",
     "output_type": "stream",
     "text": [
      "[('Item_Weight', 0.0421591922790698), ('Item_Visibility', 0.11049332048749261), ('Item_MRP', 0.4413019896503392), ('Outlet_Age', 0.025344308279324032), ('Item_Fat_Content_Low Fat', 0.006191615456721576), ('Item_Fat_Content_Regular', 0.005130162898509451), ('Item_Type_Baking Goods', 0.004998019118598728), ('Item_Type_Breads', 0.004021414239904297), ('Item_Type_Breakfast', 0.001427216215461865), ('Item_Type_Canned', 0.004561240265195968), ('Item_Type_Dairy', 0.006661476349188509), ('Item_Type_Frozen Foods', 0.00605154263389415), ('Item_Type_Fruits and Vegetables', 0.007204437454099193), ('Item_Type_Hard Drinks', 0.002046627149581888), ('Item_Type_Health and Hygiene', 0.0023660614408751897), ('Item_Type_Household', 0.0030915077486001535), ('Item_Type_Meat', 0.0018648898676449637), ('Item_Type_Others', 0.0012477819563450853), ('Item_Type_Seafood', 0.001378810962128595), ('Item_Type_Snack Foods', 0.007879270090911697), ('Item_Type_Soft Drinks', 0.0023064402879732744), ('Item_Type_Starchy Foods', 0.0024675510365364532), ('Outlet_Identifier_OUT010', 1.2811214710041902e-05), ('Outlet_Identifier_OUT013', 0.0007846539151842923), ('Outlet_Identifier_OUT017', 0.002514828747729047), ('Outlet_Identifier_OUT018', 0.0008708942912618745), ('Outlet_Identifier_OUT019', 1.426323334362851e-05), ('Outlet_Identifier_OUT027', 0.058926324454526856), ('Outlet_Identifier_OUT035', 0.004751017539620199), ('Outlet_Identifier_OUT045', 0.0041783431866917525), ('Outlet_Identifier_OUT046', 0.004208864531163758), ('Outlet_Identifier_OUT049', 0.00318063399175984), ('Outlet_Size_High', 0.001785308233469357), ('Outlet_Size_Medium', 0.00301505708175001), ('Outlet_Size_Small', 0.004605705940748389), ('Outlet_Size_Unknown', 0.001949899546890135), ('Outlet_Location_Type_Tier 1', 0.0019358932863498253), ('Outlet_Location_Type_Tier 2', 0.0021953229752655554), ('Outlet_Location_Type_Tier 3', 0.002197067737990145), ('Outlet_Type_Grocery Store', 0.19606735687304713), ('Outlet_Type_Supermarket Type1', 0.0031831051449709405), ('Outlet_Type_Supermarket Type2', 0.0005093758430737984), ('Outlet_Type_Supermarket Type3', 0.0020429715166781024), ('Item_Code_DR', 0.0030910032924354462), ('Item_Code_FD', 0.003361878571888476), ('Item_Code_NC', 0.004422542981054742)]\n"
     ]
    }
   ],
   "source": [
    "print(list(zip(X.columns,treemodel.feature_importances_)))"
   ]
  },
  {
   "cell_type": "code",
   "execution_count": 118,
   "id": "ceeb5afd",
   "metadata": {},
   "outputs": [
    {
     "data": {
      "text/plain": [
       "numpy.ndarray"
      ]
     },
     "execution_count": 118,
     "metadata": {},
     "output_type": "execute_result"
    }
   ],
   "source": [
    "type(treemodel.feature_importances_)"
   ]
  },
  {
   "cell_type": "code",
   "execution_count": 119,
   "id": "0154ce17",
   "metadata": {},
   "outputs": [
    {
     "data": {
      "text/html": [
       "<div>\n",
       "<style scoped>\n",
       "    .dataframe tbody tr th:only-of-type {\n",
       "        vertical-align: middle;\n",
       "    }\n",
       "\n",
       "    .dataframe tbody tr th {\n",
       "        vertical-align: top;\n",
       "    }\n",
       "\n",
       "    .dataframe thead th {\n",
       "        text-align: right;\n",
       "    }\n",
       "</style>\n",
       "<table border=\"1\" class=\"dataframe\">\n",
       "  <thead>\n",
       "    <tr style=\"text-align: right;\">\n",
       "      <th></th>\n",
       "      <th>0</th>\n",
       "    </tr>\n",
       "  </thead>\n",
       "  <tbody>\n",
       "    <tr>\n",
       "      <th>Item_MRP</th>\n",
       "      <td>0.441302</td>\n",
       "    </tr>\n",
       "    <tr>\n",
       "      <th>Outlet_Type_Grocery Store</th>\n",
       "      <td>0.196067</td>\n",
       "    </tr>\n",
       "    <tr>\n",
       "      <th>Item_Visibility</th>\n",
       "      <td>0.110493</td>\n",
       "    </tr>\n",
       "    <tr>\n",
       "      <th>Outlet_Identifier_OUT027</th>\n",
       "      <td>0.058926</td>\n",
       "    </tr>\n",
       "    <tr>\n",
       "      <th>Item_Weight</th>\n",
       "      <td>0.042159</td>\n",
       "    </tr>\n",
       "    <tr>\n",
       "      <th>Outlet_Age</th>\n",
       "      <td>0.025344</td>\n",
       "    </tr>\n",
       "    <tr>\n",
       "      <th>Item_Type_Snack Foods</th>\n",
       "      <td>0.007879</td>\n",
       "    </tr>\n",
       "    <tr>\n",
       "      <th>Item_Type_Fruits and Vegetables</th>\n",
       "      <td>0.007204</td>\n",
       "    </tr>\n",
       "    <tr>\n",
       "      <th>Item_Type_Dairy</th>\n",
       "      <td>0.006661</td>\n",
       "    </tr>\n",
       "    <tr>\n",
       "      <th>Item_Fat_Content_Low Fat</th>\n",
       "      <td>0.006192</td>\n",
       "    </tr>\n",
       "    <tr>\n",
       "      <th>Item_Type_Frozen Foods</th>\n",
       "      <td>0.006052</td>\n",
       "    </tr>\n",
       "    <tr>\n",
       "      <th>Item_Fat_Content_Regular</th>\n",
       "      <td>0.005130</td>\n",
       "    </tr>\n",
       "    <tr>\n",
       "      <th>Item_Type_Baking Goods</th>\n",
       "      <td>0.004998</td>\n",
       "    </tr>\n",
       "    <tr>\n",
       "      <th>Outlet_Identifier_OUT035</th>\n",
       "      <td>0.004751</td>\n",
       "    </tr>\n",
       "    <tr>\n",
       "      <th>Outlet_Size_Small</th>\n",
       "      <td>0.004606</td>\n",
       "    </tr>\n",
       "    <tr>\n",
       "      <th>Item_Type_Canned</th>\n",
       "      <td>0.004561</td>\n",
       "    </tr>\n",
       "    <tr>\n",
       "      <th>Item_Code_NC</th>\n",
       "      <td>0.004423</td>\n",
       "    </tr>\n",
       "    <tr>\n",
       "      <th>Outlet_Identifier_OUT046</th>\n",
       "      <td>0.004209</td>\n",
       "    </tr>\n",
       "    <tr>\n",
       "      <th>Outlet_Identifier_OUT045</th>\n",
       "      <td>0.004178</td>\n",
       "    </tr>\n",
       "    <tr>\n",
       "      <th>Item_Type_Breads</th>\n",
       "      <td>0.004021</td>\n",
       "    </tr>\n",
       "    <tr>\n",
       "      <th>Item_Code_FD</th>\n",
       "      <td>0.003362</td>\n",
       "    </tr>\n",
       "    <tr>\n",
       "      <th>Outlet_Type_Supermarket Type1</th>\n",
       "      <td>0.003183</td>\n",
       "    </tr>\n",
       "    <tr>\n",
       "      <th>Outlet_Identifier_OUT049</th>\n",
       "      <td>0.003181</td>\n",
       "    </tr>\n",
       "    <tr>\n",
       "      <th>Item_Type_Household</th>\n",
       "      <td>0.003092</td>\n",
       "    </tr>\n",
       "    <tr>\n",
       "      <th>Item_Code_DR</th>\n",
       "      <td>0.003091</td>\n",
       "    </tr>\n",
       "    <tr>\n",
       "      <th>Outlet_Size_Medium</th>\n",
       "      <td>0.003015</td>\n",
       "    </tr>\n",
       "    <tr>\n",
       "      <th>Outlet_Identifier_OUT017</th>\n",
       "      <td>0.002515</td>\n",
       "    </tr>\n",
       "    <tr>\n",
       "      <th>Item_Type_Starchy Foods</th>\n",
       "      <td>0.002468</td>\n",
       "    </tr>\n",
       "    <tr>\n",
       "      <th>Item_Type_Health and Hygiene</th>\n",
       "      <td>0.002366</td>\n",
       "    </tr>\n",
       "    <tr>\n",
       "      <th>Item_Type_Soft Drinks</th>\n",
       "      <td>0.002306</td>\n",
       "    </tr>\n",
       "    <tr>\n",
       "      <th>Outlet_Location_Type_Tier 3</th>\n",
       "      <td>0.002197</td>\n",
       "    </tr>\n",
       "    <tr>\n",
       "      <th>Outlet_Location_Type_Tier 2</th>\n",
       "      <td>0.002195</td>\n",
       "    </tr>\n",
       "    <tr>\n",
       "      <th>Item_Type_Hard Drinks</th>\n",
       "      <td>0.002047</td>\n",
       "    </tr>\n",
       "    <tr>\n",
       "      <th>Outlet_Type_Supermarket Type3</th>\n",
       "      <td>0.002043</td>\n",
       "    </tr>\n",
       "    <tr>\n",
       "      <th>Outlet_Size_Unknown</th>\n",
       "      <td>0.001950</td>\n",
       "    </tr>\n",
       "    <tr>\n",
       "      <th>Outlet_Location_Type_Tier 1</th>\n",
       "      <td>0.001936</td>\n",
       "    </tr>\n",
       "    <tr>\n",
       "      <th>Item_Type_Meat</th>\n",
       "      <td>0.001865</td>\n",
       "    </tr>\n",
       "    <tr>\n",
       "      <th>Outlet_Size_High</th>\n",
       "      <td>0.001785</td>\n",
       "    </tr>\n",
       "    <tr>\n",
       "      <th>Item_Type_Breakfast</th>\n",
       "      <td>0.001427</td>\n",
       "    </tr>\n",
       "    <tr>\n",
       "      <th>Item_Type_Seafood</th>\n",
       "      <td>0.001379</td>\n",
       "    </tr>\n",
       "    <tr>\n",
       "      <th>Item_Type_Others</th>\n",
       "      <td>0.001248</td>\n",
       "    </tr>\n",
       "    <tr>\n",
       "      <th>Outlet_Identifier_OUT018</th>\n",
       "      <td>0.000871</td>\n",
       "    </tr>\n",
       "    <tr>\n",
       "      <th>Outlet_Identifier_OUT013</th>\n",
       "      <td>0.000785</td>\n",
       "    </tr>\n",
       "    <tr>\n",
       "      <th>Outlet_Type_Supermarket Type2</th>\n",
       "      <td>0.000509</td>\n",
       "    </tr>\n",
       "    <tr>\n",
       "      <th>Outlet_Identifier_OUT019</th>\n",
       "      <td>0.000014</td>\n",
       "    </tr>\n",
       "    <tr>\n",
       "      <th>Outlet_Identifier_OUT010</th>\n",
       "      <td>0.000013</td>\n",
       "    </tr>\n",
       "  </tbody>\n",
       "</table>\n",
       "</div>"
      ],
      "text/plain": [
       "                                        0\n",
       "Item_MRP                         0.441302\n",
       "Outlet_Type_Grocery Store        0.196067\n",
       "Item_Visibility                  0.110493\n",
       "Outlet_Identifier_OUT027         0.058926\n",
       "Item_Weight                      0.042159\n",
       "Outlet_Age                       0.025344\n",
       "Item_Type_Snack Foods            0.007879\n",
       "Item_Type_Fruits and Vegetables  0.007204\n",
       "Item_Type_Dairy                  0.006661\n",
       "Item_Fat_Content_Low Fat         0.006192\n",
       "Item_Type_Frozen Foods           0.006052\n",
       "Item_Fat_Content_Regular         0.005130\n",
       "Item_Type_Baking Goods           0.004998\n",
       "Outlet_Identifier_OUT035         0.004751\n",
       "Outlet_Size_Small                0.004606\n",
       "Item_Type_Canned                 0.004561\n",
       "Item_Code_NC                     0.004423\n",
       "Outlet_Identifier_OUT046         0.004209\n",
       "Outlet_Identifier_OUT045         0.004178\n",
       "Item_Type_Breads                 0.004021\n",
       "Item_Code_FD                     0.003362\n",
       "Outlet_Type_Supermarket Type1    0.003183\n",
       "Outlet_Identifier_OUT049         0.003181\n",
       "Item_Type_Household              0.003092\n",
       "Item_Code_DR                     0.003091\n",
       "Outlet_Size_Medium               0.003015\n",
       "Outlet_Identifier_OUT017         0.002515\n",
       "Item_Type_Starchy Foods          0.002468\n",
       "Item_Type_Health and Hygiene     0.002366\n",
       "Item_Type_Soft Drinks            0.002306\n",
       "Outlet_Location_Type_Tier 3      0.002197\n",
       "Outlet_Location_Type_Tier 2      0.002195\n",
       "Item_Type_Hard Drinks            0.002047\n",
       "Outlet_Type_Supermarket Type3    0.002043\n",
       "Outlet_Size_Unknown              0.001950\n",
       "Outlet_Location_Type_Tier 1      0.001936\n",
       "Item_Type_Meat                   0.001865\n",
       "Outlet_Size_High                 0.001785\n",
       "Item_Type_Breakfast              0.001427\n",
       "Item_Type_Seafood                0.001379\n",
       "Item_Type_Others                 0.001248\n",
       "Outlet_Identifier_OUT018         0.000871\n",
       "Outlet_Identifier_OUT013         0.000785\n",
       "Outlet_Type_Supermarket Type2    0.000509\n",
       "Outlet_Identifier_OUT019         0.000014\n",
       "Outlet_Identifier_OUT010         0.000013"
      ]
     },
     "execution_count": 119,
     "metadata": {},
     "output_type": "execute_result"
    }
   ],
   "source": [
    "pd.DataFrame(treemodel.feature_importances_,index=X.columns).sort_values(by=0,ascending=False)"
   ]
  },
  {
   "cell_type": "markdown",
   "id": "f58a106b",
   "metadata": {},
   "source": [
    "# RandomForest"
   ]
  },
  {
   "cell_type": "code",
   "execution_count": 96,
   "id": "c1a244d8",
   "metadata": {},
   "outputs": [],
   "source": [
    "from sklearn.ensemble import RandomForestRegressor"
   ]
  },
  {
   "cell_type": "code",
   "execution_count": 97,
   "id": "df611405",
   "metadata": {},
   "outputs": [],
   "source": [
    "RF=RandomForestRegressor(n_estimators=3000,max_depth=10)"
   ]
  },
  {
   "cell_type": "code",
   "execution_count": 98,
   "id": "f28813fb",
   "metadata": {},
   "outputs": [],
   "source": [
    "RFmodel=RF.fit(X,y)"
   ]
  },
  {
   "cell_type": "code",
   "execution_count": 121,
   "id": "a41a5556",
   "metadata": {},
   "outputs": [
    {
     "data": {
      "text/plain": [
       "0.7048805034487556"
      ]
     },
     "execution_count": 121,
     "metadata": {},
     "output_type": "execute_result"
    }
   ],
   "source": [
    "RFmodel.score(X,y)"
   ]
  },
  {
   "cell_type": "code",
   "execution_count": null,
   "id": "74abaca9",
   "metadata": {},
   "outputs": [],
   "source": []
  }
 ],
 "metadata": {
  "kernelspec": {
   "display_name": "Python 3",
   "language": "python",
   "name": "python3"
  },
  "language_info": {
   "codemirror_mode": {
    "name": "ipython",
    "version": 3
   },
   "file_extension": ".py",
   "mimetype": "text/x-python",
   "name": "python",
   "nbconvert_exporter": "python",
   "pygments_lexer": "ipython3",
   "version": "3.8.8"
  }
 },
 "nbformat": 4,
 "nbformat_minor": 5
}
